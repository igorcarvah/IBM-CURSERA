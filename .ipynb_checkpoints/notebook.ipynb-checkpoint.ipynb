{
 "cells": [
  {
   "cell_type": "markdown",
   "id": "3ba1ddef-f4d2-4257-bb6c-438c3bc3b17a",
   "metadata": {},
   "source": [
    "ibm notebook_"
   ]
  },
  {
   "cell_type": "markdown",
   "id": "2d834978-a7f1-442f-8c18-89d0b1aa41dd",
   "metadata": {},
   "source": [
    "trabalho jupterlab IBM"
   ]
  },
  {
   "cell_type": "markdown",
   "id": "2a033bc2-8fe5-4c75-8e89-9485b02314f4",
   "metadata": {},
   "source": [
    "é usado na progração para ciencia de dados\n",
    "°python\n",
    "°rstudio\n",
    "° e bancos de dados"
   ]
  },
  {
   "cell_type": "markdown",
   "id": "2496e417-2bb7-4f0a-b9c6-ed6fa6c22e07",
   "metadata": {},
   "source": [
    "# Ferramentas de Ciência de Dados\n",
    "\n",
    "Aqui está uma tabela com algumas das principais ferramentas utilizadas em ciência de dados:\n",
    "\n",
    "| Ferramenta     | Descrição                                              | Linguagem Suportada    |\n",
    "|---------------|------------------------------------------------------|------------------------|\n",
    "| JupyterLab    | Ambiente interativo para programação e análise       | Python                 |\n",
    "| RStudio       | IDE para a linguagem R                               | R                      |\n",
    "| IBM Watson    | Plataforma de IA e análise de dados                  | Python, R, SQL         |\n",
    "| TensorFlow    | Biblioteca de aprendizado de máquina                 | Python                 |\n",
    "| Pandas        | Biblioteca para manipulação de dados                 | Python                 |\n",
    "| Apache Spark  | Ferramenta de processamento distribuído              | Python, Scala, Java, R |\n",
    "| Scikit-learn  | Biblioteca para aprendizado de máquina               | Python                 |\n"
   ]
  },
  {
   "cell_type": "code",
   "execution_count": 6,
   "id": "02f20215-e3c8-4f6f-bd71-a71bdedd348f",
   "metadata": {},
   "outputs": [
    {
     "name": "stdout",
     "output_type": "stream",
     "text": [
      "Soma: 8\n",
      "Subtração: 6\n",
      "Multiplicação: 42\n",
      "Divisão: 5.0\n",
      "Exponenciação: 8\n",
      "Resto da divisão: 1\n"
     ]
    }
   ],
   "source": [
    "\n",
    "#python\n",
    "# Adição\n",
    "soma = 5 + 3\n",
    "print(\"Soma:\", soma)  # Resultado: 8\n",
    "\n",
    "# Subtração\n",
    "subtracao = 10 - 4\n",
    "print(\"Subtração:\", subtracao)  # Resultado: 6\n",
    "\n",
    "# Multiplicação\n",
    "multiplicacao = 6 * 7\n",
    "print(\"Multiplicação:\", multiplicacao)  # Resultado: 42\n",
    "\n",
    "# Divisão\n",
    "divisao = 20 / 4\n",
    "print(\"Divisão:\", divisao)  # Resultado: 5.0\n",
    "\n",
    "# Exponenciação\n",
    "potencia = 2 ** 3\n",
    "print(\"Exponenciação:\", potencia)  # Resultado: 8\n",
    "\n",
    "# Módulo (resto da divisão)\n",
    "resto = 10 % 3\n",
    "print(\"Resto da divisão:\", resto)"
   ]
  },
  {
   "cell_type": "code",
   "execution_count": 5,
   "id": "d5e0ac1c-a617-4684-8b93-feaf0e224086",
   "metadata": {},
   "outputs": [
    {
     "name": "stdout",
     "output_type": "stream",
     "text": [
      "120 minutos equivalem a 2.0 horas.\n"
     ]
    }
   ],
   "source": [
    "# Função para converter minutos em horas\n",
    "def converter_minutos_para_horas(minutos):\n",
    "    horas = minutos / 60\n",
    "    return horas\n",
    "\n",
    "# Exemplo de uso\n",
    "minutos = 120\n",
    "horas = converter_minutos_para_horas(minutos)  # Chamada correta da função\n",
    "print(f\"{minutos} minutos equivalem a {horas} horas.\")\n"
   ]
  },
  {
   "cell_type": "markdown",
   "id": "d06218b9-83d4-467f-ae4d-3da986ef03e7",
   "metadata": {},
   "source": [
    "# Objetivos para se Tornar um Cientista de Dados\n",
    "\n",
    "Aqui está uma lista ordenada dos principais objetivos para desenvolver habilidades em ciência de dados:\n",
    "\n",
    "1. **Fundamentos de Programação** – Aprender linguagens como Python e R, essenciais para análise de dados.\n",
    "2. **Manipulação de Dados** – Dominar bibliotecas como Pandas (Python) para limpeza e transformação de dados.\n",
    "3. **Visualização de Dados** – Utilizar ferramentas como Matplotlib e Seaborn para interpretar padrões nos dados.\n",
    "4. **Estatística e Matemática** – Compreender conceitos estatísticos e matemáticos para análise quantitativa de dados.\n",
    "5. **Aprendizado de Máquina (Machine Learning)** – Explorar algoritmos com Scikit-learn e TensorFlow para criação de modelos preditivos.\n",
    "6. **Big Data e Processamento Distribuído** – Entender tecnologias como Apache Spark para lidar com grandes volumes de dados.\n",
    "7. **Engenharia de Dados** – Aprender sobre bancos de dados SQL e NoSQL para armazenamento e recuperação de dados.\n",
    "8. **Modelagem e Avaliação de Modelos** – Ajustar e validar modelos preditivos com técnicas de otimização e métricas de desempenho.\n",
    "9. **Desenvolvimento de Projetos** – Construir projetos práticos para aplicar os conhecimentos adquiridos.\n",
    "10. **Especialização em Domínios Específicos** – Aprofundar-se em áreas como ciência de dados aplicada à saúde, finanças ou marketing."
   ]
  },
  {
   "cell_type": "markdown",
   "id": "57855902-a6c4-4e0a-9172-6eb0ca3e65a3",
   "metadata": {},
   "source": [
    "# Autor\n",
    "\n",
    "Este notebook foi criado por **Igor Carvalho**.\n",
    "\n",
    "Data de criação: 09 de junho de 2025\n",
    "\n",
    "\n"
   ]
  },
  {
   "cell_type": "markdown",
   "id": "28a9d6c8-7d93-487a-9259-2edbe71adc51",
   "metadata": {},
   "source": [
    "# Interpolação de strings (f-strings)\n",
    "Introduzidas no Python 3.6, as f-strings são uma nova maneira de formatar strings em Python. Elas são prefixadas com 'f' e usam chaves {} para envolver as variáveis que serão formatadas. Por exemplo:"
   ]
  },
  {
   "cell_type": "code",
   "execution_count": 1,
   "id": "61505794-9e4e-4a61-bd6d-71ea07a49e68",
   "metadata": {},
   "outputs": [
    {
     "name": "stdout",
     "output_type": "stream",
     "text": [
      " Meu nome é John e eu tenho 30 anos\n"
     ]
    }
   ],
   "source": [
    "nome = 'John'\n",
    "age = 30\n",
    "print (f\" Meu nome é {nome} e eu tenho {age} anos\")"
   ]
  },
  {
   "cell_type": "code",
   "execution_count": 4,
   "id": "963b1ea3-9e1f-44df-92ac-227143eff8a5",
   "metadata": {},
   "outputs": [
    {
     "name": "stdout",
     "output_type": "stream",
     "text": [
      "Meu nome é Igor e eu tenho 32 anos\n"
     ]
    }
   ],
   "source": [
    "primeiro_nome = 'Igor'\n",
    "idade = 32\n",
    "print ('Meu nome é {} e eu tenho {} anos'. format (primeiro_nome,idade))"
   ]
  },
  {
   "cell_type": "code",
   "execution_count": 6,
   "id": "8414f9dc-07bb-4708-bbb7-ffcdfc041e1b",
   "metadata": {},
   "outputs": [
    {
     "name": "stdout",
     "output_type": "stream",
     "text": [
      "My name is Johnathan and I am 30 years old.\n"
     ]
    }
   ],
   "source": [
    "name = \"Johnathan\"\n",
    "age = 30\n",
    "print(\"My name is %s and I am %d years old.\" % (name, age))"
   ]
  },
  {
   "cell_type": "markdown",
   "id": "d5c7cc18-c3c2-4437-9a34-b15fde5cfbfc",
   "metadata": {},
   "source": [
    "# “Meu nome é %s e eu tenho %d anos.“: Esta é uma string que inclui especificadores de formato:\n",
    "\n",
    "**%s**: Este é um espaço reservado para uma string.\n",
    "\n",
    "**%d**: Este é um espaço reservado para um inteiro.\n",
    "% (nome, idade): Esta é uma tupla contendo as variáveis nome e idade. Os valores dessas variáveis substituirão os espaços reservados na string.\n",
    "\n",
    "Cada um desses métodos tem suas próprias vantagens e casos de uso. No entanto, as f-strings são geralmente consideradas a maneira mais moderna e preferida de formatar strings em Python devido à sua legibilidade e desempenho."
   ]
  },
  {
   "cell_type": "code",
   "execution_count": null,
   "id": "efe5f8a2-24c6-42b0-b6c6-e1348736aadf",
   "metadata": {},
   "outputs": [],
   "source": []
  }
 ],
 "metadata": {
  "kernelspec": {
   "display_name": "Python [conda env:base] *",
   "language": "python",
   "name": "conda-base-py"
  },
  "language_info": {
   "codemirror_mode": {
    "name": "ipython",
    "version": 3
   },
   "file_extension": ".py",
   "mimetype": "text/x-python",
   "name": "python",
   "nbconvert_exporter": "python",
   "pygments_lexer": "ipython3",
   "version": "3.12.3"
  }
 },
 "nbformat": 4,
 "nbformat_minor": 5
}
