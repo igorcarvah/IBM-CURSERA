{
 "cells": [
  {
   "cell_type": "markdown",
   "id": "3ba1ddef-f4d2-4257-bb6c-438c3bc3b17a",
   "metadata": {},
   "source": [
    "ibm notebook_"
   ]
  },
  {
   "cell_type": "markdown",
   "id": "2d834978-a7f1-442f-8c18-89d0b1aa41dd",
   "metadata": {},
   "source": [
    "trabalho jupterlab IBM"
   ]
  },
  {
   "cell_type": "markdown",
   "id": "2a033bc2-8fe5-4c75-8e89-9485b02314f4",
   "metadata": {},
   "source": [
    "é usado na progração para ciencia de dados\n",
    "°python\n",
    "°rstudio\n",
    "° e bancos de dados"
   ]
  },
  {
   "cell_type": "markdown",
   "id": "2496e417-2bb7-4f0a-b9c6-ed6fa6c22e07",
   "metadata": {},
   "source": [
    "# Ferramentas de Ciência de Dados\n",
    "\n",
    "Aqui está uma tabela com algumas das principais ferramentas utilizadas em ciência de dados:\n",
    "\n",
    "| Ferramenta     | Descrição                                              | Linguagem Suportada    |\n",
    "|---------------|------------------------------------------------------|------------------------|\n",
    "| JupyterLab    | Ambiente interativo para programação e análise       | Python                 |\n",
    "| RStudio       | IDE para a linguagem R                               | R                      |\n",
    "| IBM Watson    | Plataforma de IA e análise de dados                  | Python, R, SQL         |\n",
    "| TensorFlow    | Biblioteca de aprendizado de máquina                 | Python                 |\n",
    "| Pandas        | Biblioteca para manipulação de dados                 | Python                 |\n",
    "| Apache Spark  | Ferramenta de processamento distribuído              | Python, Scala, Java, R |\n",
    "| Scikit-learn  | Biblioteca para aprendizado de máquina               | Python                 |\n"
   ]
  },
  {
   "cell_type": "code",
   "execution_count": 6,
   "id": "02f20215-e3c8-4f6f-bd71-a71bdedd348f",
   "metadata": {},
   "outputs": [
    {
     "name": "stdout",
     "output_type": "stream",
     "text": [
      "Soma: 8\n",
      "Subtração: 6\n",
      "Multiplicação: 42\n",
      "Divisão: 5.0\n",
      "Exponenciação: 8\n",
      "Resto da divisão: 1\n"
     ]
    }
   ],
   "source": [
    "\n",
    "#python\n",
    "# Adição\n",
    "soma = 5 + 3\n",
    "print(\"Soma:\", soma)  # Resultado: 8\n",
    "\n",
    "# Subtração\n",
    "subtracao = 10 - 4\n",
    "print(\"Subtração:\", subtracao)  # Resultado: 6\n",
    "\n",
    "# Multiplicação\n",
    "multiplicacao = 6 * 7\n",
    "print(\"Multiplicação:\", multiplicacao)  # Resultado: 42\n",
    "\n",
    "# Divisão\n",
    "divisao = 20 / 4\n",
    "print(\"Divisão:\", divisao)  # Resultado: 5.0\n",
    "\n",
    "# Exponenciação\n",
    "potencia = 2 ** 3\n",
    "print(\"Exponenciação:\", potencia)  # Resultado: 8\n",
    "\n",
    "# Módulo (resto da divisão)\n",
    "resto = 10 % 3\n",
    "print(\"Resto da divisão:\", resto)"
   ]
  },
  {
   "cell_type": "code",
   "execution_count": 5,
   "id": "d5e0ac1c-a617-4684-8b93-feaf0e224086",
   "metadata": {},
   "outputs": [
    {
     "name": "stdout",
     "output_type": "stream",
     "text": [
      "120 minutos equivalem a 2.0 horas.\n"
     ]
    }
   ],
   "source": [
    "# Função para converter minutos em horas\n",
    "def converter_minutos_para_horas(minutos):\n",
    "    horas = minutos / 60\n",
    "    return horas\n",
    "\n",
    "# Exemplo de uso\n",
    "minutos = 120\n",
    "horas = converter_minutos_para_horas(minutos)  # Chamada correta da função\n",
    "print(f\"{minutos} minutos equivalem a {horas} horas.\")\n"
   ]
  },
  {
   "cell_type": "markdown",
   "id": "d06218b9-83d4-467f-ae4d-3da986ef03e7",
   "metadata": {},
   "source": [
    "# Objetivos para se Tornar um Cientista de Dados\n",
    "\n",
    "Aqui está uma lista ordenada dos principais objetivos para desenvolver habilidades em ciência de dados:\n",
    "\n",
    "1. **Fundamentos de Programação** – Aprender linguagens como Python e R, essenciais para análise de dados.\n",
    "2. **Manipulação de Dados** – Dominar bibliotecas como Pandas (Python) para limpeza e transformação de dados.\n",
    "3. **Visualização de Dados** – Utilizar ferramentas como Matplotlib e Seaborn para interpretar padrões nos dados.\n",
    "4. **Estatística e Matemática** – Compreender conceitos estatísticos e matemáticos para análise quantitativa de dados.\n",
    "5. **Aprendizado de Máquina (Machine Learning)** – Explorar algoritmos com Scikit-learn e TensorFlow para criação de modelos preditivos.\n",
    "6. **Big Data e Processamento Distribuído** – Entender tecnologias como Apache Spark para lidar com grandes volumes de dados.\n",
    "7. **Engenharia de Dados** – Aprender sobre bancos de dados SQL e NoSQL para armazenamento e recuperação de dados.\n",
    "8. **Modelagem e Avaliação de Modelos** – Ajustar e validar modelos preditivos com técnicas de otimização e métricas de desempenho.\n",
    "9. **Desenvolvimento de Projetos** – Construir projetos práticos para aplicar os conhecimentos adquiridos.\n",
    "10. **Especialização em Domínios Específicos** – Aprofundar-se em áreas como ciência de dados aplicada à saúde, finanças ou marketing."
   ]
  },
  {
   "cell_type": "markdown",
   "id": "57855902-a6c4-4e0a-9172-6eb0ca3e65a3",
   "metadata": {},
   "source": [
    "# Autor\n",
    "\n",
    "Este notebook foi criado por **Igor Carvalho**.\n",
    "\n",
    "Data de criação: 09 de junho de 2025\n",
    "\n",
    "\n"
   ]
  },
  {
   "cell_type": "markdown",
   "id": "28a9d6c8-7d93-487a-9259-2edbe71adc51",
   "metadata": {},
   "source": [
    "# Interpolação de strings (f-strings)\n",
    "Introduzidas no Python 3.6, as f-strings são uma nova maneira de formatar strings em Python. Elas são prefixadas com 'f' e usam chaves {} para envolver as variáveis que serão formatadas. Por exemplo:"
   ]
  },
  {
   "cell_type": "code",
   "execution_count": 1,
   "id": "61505794-9e4e-4a61-bd6d-71ea07a49e68",
   "metadata": {},
   "outputs": [
    {
     "name": "stdout",
     "output_type": "stream",
     "text": [
      " Meu nome é John e eu tenho 30 anos\n"
     ]
    }
   ],
   "source": [
    "nome = 'John'\n",
    "age = 30\n",
    "print (f\" Meu nome é {nome} e eu tenho {age} anos\")"
   ]
  },
  {
   "cell_type": "code",
   "execution_count": 4,
   "id": "963b1ea3-9e1f-44df-92ac-227143eff8a5",
   "metadata": {},
   "outputs": [
    {
     "name": "stdout",
     "output_type": "stream",
     "text": [
      "Meu nome é Igor e eu tenho 32 anos\n"
     ]
    }
   ],
   "source": [
    "primeiro_nome = 'Igor'\n",
    "idade = 32\n",
    "print ('Meu nome é {} e eu tenho {} anos'. format (primeiro_nome,idade))"
   ]
  },
  {
   "cell_type": "code",
   "execution_count": 6,
   "id": "8414f9dc-07bb-4708-bbb7-ffcdfc041e1b",
   "metadata": {
    "collapsed": true,
    "jupyter": {
     "outputs_hidden": true
    }
   },
   "outputs": [
    {
     "name": "stdout",
     "output_type": "stream",
     "text": [
      "My name is Johnathan and I am 30 years old.\n"
     ]
    }
   ],
   "source": [
    "name = \"Johnathan\"\n",
    "age = 30\n",
    "print(\"My name is %s and I am %d years old.\" % (name, age))"
   ]
  },
  {
   "cell_type": "markdown",
   "id": "d5c7cc18-c3c2-4437-9a34-b15fde5cfbfc",
   "metadata": {},
   "source": [
    "# “Meu nome é %s e eu tenho %d anos.“: Esta é uma string que inclui especificadores de formato:\n",
    "\n",
    "**%s**: Este é um espaço reservado para uma string.\n",
    "\n",
    "**%d**: Este é um espaço reservado para um inteiro.\n",
    "% (nome, idade): Esta é uma tupla contendo as variáveis nome e idade. Os valores dessas variáveis substituirão os espaços reservados na string.\n",
    "\n",
    "Cada um desses métodos tem suas próprias vantagens e casos de uso. No entanto, as f-strings são geralmente consideradas a maneira mais moderna e preferida de formatar strings em Python devido à sua legibilidade e desempenho."
   ]
  },
  {
   "cell_type": "code",
   "execution_count": 5,
   "id": "efe5f8a2-24c6-42b0-b6c6-e1348736aadf",
   "metadata": {},
   "outputs": [
    {
     "data": {
      "text/plain": [
       "[10, 15, 20, 25, 30, 35, 40, 45, 50, 55, 60, 65, 70, 75, 80, 85, 90, 95, 100]"
      ]
     },
     "execution_count": 5,
     "metadata": {},
     "output_type": "execute_result"
    }
   ],
   "source": [
    "list(range(10, 101, 5))\n"
   ]
  },
  {
   "cell_type": "code",
   "execution_count": 6,
   "id": "3cfc35da-0933-48bf-9195-d4b3f6c937dc",
   "metadata": {},
   "outputs": [
    {
     "name": "stdout",
     "output_type": "stream",
     "text": [
      "maçã\n",
      "banana\n",
      "laranja\n"
     ]
    }
   ],
   "source": [
    "frutas = [\"maçã\", \"banana\", \"laranja\"]\n",
    "for fruta in frutas:\n",
    "    print(fruta)"
   ]
  },
  {
   "cell_type": "code",
   "execution_count": 7,
   "id": "09582f2b-b200-48a1-aa11-1edd2065dedf",
   "metadata": {},
   "outputs": [
    {
     "name": "stdout",
     "output_type": "stream",
     "text": [
      "Repetição: 0\n",
      "Repetição: 1\n",
      "Repetição: 2\n"
     ]
    }
   ],
   "source": [
    "contador = 0\n",
    "while contador < 3:\n",
    "    print(\"Repetição:\", contador)\n",
    "    contador += 1\n",
    "    "
   ]
  },
  {
   "cell_type": "code",
   "execution_count": 8,
   "id": "ea6e5fc9-ad86-488f-a739-f23b7bb0c0f8",
   "metadata": {},
   "outputs": [
    {
     "name": "stdout",
     "output_type": "stream",
     "text": [
      "João foi aprovado!\n",
      "Maria foi aprovado!\n",
      "Pedro foi reprovado.\n"
     ]
    }
   ],
   "source": [
    "alunos = [\n",
    "    {\"nome\": \"João\", \"nota\": 8},\n",
    "    {\"nome\": \"Maria\", \"nota\": 9},\n",
    "    {\"nome\": \"Pedro\", \"nota\": 7}\n",
    "]\n",
    "\n",
    "for aluno in alunos:\n",
    "    if aluno[\"nota\"] >= 8:\n",
    "        print(aluno[\"nome\"], \"foi aprovado!\")\n",
    "    else:\n",
    "        print(aluno[\"nome\"], \"foi reprovado.\")"
   ]
  },
  {
   "cell_type": "code",
   "execution_count": 17,
   "id": "a6fcb557-8977-4bc5-ad93-4957db700f15",
   "metadata": {},
   "outputs": [
    {
     "name": "stdin",
     "output_type": "stream",
     "text": [
      "Escreva a 1 fruta maça\n",
      "Escreva a 2 fruta pera \n",
      "escreva a 3 fruta uva\n"
     ]
    },
    {
     "name": "stdout",
     "output_type": "stream",
     "text": [
      " A lista completa é: ['maça', 'pera ', 'uva'] \n"
     ]
    }
   ],
   "source": [
    "f1= input('Escreva a 1 fruta')\n",
    "f2= input('Escreva a 2 fruta')\n",
    "f3= input('escreva a 3 fruta')\n",
    "frutas = [f1,f2,f3]\n",
    "print (f' A lista completa é: {frutas} ')"
   ]
  },
  {
   "cell_type": "code",
   "execution_count": 18,
   "id": "6392cbfd-d8d3-43b0-aec6-eef8bc02be2e",
   "metadata": {},
   "outputs": [
    {
     "name": "stdout",
     "output_type": "stream",
     "text": [
      "Before square  0 is red\n",
      "After square  0 is white\n",
      "Before square  1 is yellow\n",
      "After square  1 is white\n",
      "Before square  2 is green\n",
      "After square  2 is white\n",
      "Before square  3 is purple\n",
      "After square  3 is white\n",
      "Before square  4 is blue\n",
      "After square  4 is white\n"
     ]
    }
   ],
   "source": [
    "squares = ['red', 'yellow', 'green', 'purple', 'blue']\n",
    "\n",
    "for i in range(0, 5):\n",
    "    print(\"Before square \", i, 'is',  squares[i])\n",
    "    squares[i] = 'white'\n",
    "    print(\"After square \", i, 'is',  squares[i])"
   ]
  },
  {
   "cell_type": "code",
   "execution_count": 20,
   "id": "3afadb51-3a2b-4599-88c7-68e08fdfb0c2",
   "metadata": {},
   "outputs": [
    {
     "name": "stdout",
     "output_type": "stream",
     "text": [
      "-5\n",
      "-4\n",
      "-3\n",
      "-2\n",
      "-1\n",
      "0\n",
      "1\n",
      "2\n",
      "3\n",
      "4\n",
      "5\n"
     ]
    }
   ],
   "source": [
    "# Write your code below and press Shift+Enter to execute\n",
    "for i in range(-5, 6):\n",
    "    print (i)\n"
   ]
  },
  {
   "cell_type": "code",
   "execution_count": 21,
   "id": "25da4bdb-edb0-4da5-93ca-61fc2d08ebaf",
   "metadata": {},
   "outputs": [
    {
     "name": "stdout",
     "output_type": "stream",
     "text": [
      "10\n",
      "9.5\n",
      "10\n",
      "8\n",
      "7.5\n"
     ]
    }
   ],
   "source": [
    "PlayListRatings = [10, 9.5, 10, 8, 7.5, 5, 10, 10]\n",
    "\n",
    "i = 0\n",
    "while i < len(PlayListRatings):\n",
    "    Rating = PlayListRatings[i]\n",
    "    if Rating >= 6:\n",
    "        print(Rating)\n",
    "    else:\n",
    "        break  # Se quiser parar ao encontrar a primeira nota ruim\n",
    "    i += 1"
   ]
  },
  {
   "cell_type": "code",
   "execution_count": 22,
   "id": "95d06c5e-7417-44de-85ce-390aa632856f",
   "metadata": {},
   "outputs": [
    {
     "name": "stdout",
     "output_type": "stream",
     "text": [
      "A soma dos números é: 35\n"
     ]
    }
   ],
   "source": [
    "numeros = [5, 8, 12, 3, 7]\n",
    "\n",
    "soma = 0\n",
    "for n in numeros:\n",
    "    soma += n\n",
    "\n",
    "print(\"A soma dos números é:\", soma)\n"
   ]
  },
  {
   "cell_type": "code",
   "execution_count": 23,
   "id": "d38288db-b491-4ca8-a243-63923352f7d3",
   "metadata": {},
   "outputs": [
    {
     "name": "stdout",
     "output_type": "stream",
     "text": [
      "AA\n",
      "BA\n",
      "CA\n"
     ]
    }
   ],
   "source": [
    "for x in ['A', 'B', 'C']:\n",
    "    print(x + 'A')"
   ]
  },
  {
   "cell_type": "code",
   "execution_count": 24,
   "id": "e4a6219e-70ce-4dda-868d-dd29be71a2b2",
   "metadata": {},
   "outputs": [
    {
     "name": "stdout",
     "output_type": "stream",
     "text": [
      "a1\n",
      "b1\n",
      "c1\n"
     ]
    }
   ],
   "source": [
    "def print_function(A):\n",
    "    for a in A:\n",
    "        print(a + '1')\n",
    "print_function(['a', 'b', 'c'])"
   ]
  },
  {
   "cell_type": "code",
   "execution_count": 25,
   "id": "81983395-e268-4501-b778-da81235d9f90",
   "metadata": {},
   "outputs": [
    {
     "data": {
      "text/plain": [
       "3"
      ]
     },
     "execution_count": 25,
     "metadata": {},
     "output_type": "execute_result"
    }
   ],
   "source": [
    " len(['A','B',1])"
   ]
  },
  {
   "cell_type": "code",
   "execution_count": 26,
   "id": "cce0f664-f0ca-413c-b808-c289c78691d5",
   "metadata": {},
   "outputs": [
    {
     "data": {
      "text/plain": [
       "1"
      ]
     },
     "execution_count": 26,
     "metadata": {},
     "output_type": "execute_result"
    }
   ],
   "source": [
    " len([sum([1,1,1])])"
   ]
  },
  {
   "cell_type": "code",
   "execution_count": 27,
   "id": "7de44e9b-f4c4-4cce-b7ee-3b6eecd813b2",
   "metadata": {},
   "outputs": [
    {
     "data": {
      "text/plain": [
       "[1, 2, 3]"
      ]
     },
     "execution_count": 27,
     "metadata": {},
     "output_type": "execute_result"
    }
   ],
   "source": [
    "L=[1,3,2]\n",
    "\n",
    "sorted(L) \n"
   ]
  },
  {
   "cell_type": "code",
   "execution_count": 1,
   "id": "9a649cf3-c1bf-46b1-8ec4-1e0235eb6acf",
   "metadata": {},
   "outputs": [
    {
     "name": "stdout",
     "output_type": "stream",
     "text": [
      "Azul\n",
      "Fusca está acelerando!\n"
     ]
    }
   ],
   "source": [
    "class Carro:\n",
    "    def __init__(self, modelo, cor):\n",
    "        self.modelo = modelo\n",
    "        self.cor = cor\n",
    "\n",
    "    def acelerar(self):\n",
    "        print(f\"{self.modelo} está acelerando!\")\n",
    "\n",
    "# Criando um objeto\n",
    "meu_carro = Carro(\"Fusca\", \"Azul\")\n",
    "\n",
    "# Acessando métodos e atributos\n",
    "print(meu_carro.cor)\n",
    "meu_carro.acelerar()"
   ]
  },
  {
   "cell_type": "markdown",
   "id": "33e20f89-ac77-4526-ab44-db400af564ec",
   "metadata": {},
   "source": [
    "# Craição de caixa eletronico\n",
    " Ápos verificar o codigo, relizado formulaçoes  e melhorias deixando passo a passo da contrução."
   ]
  },
  {
   "cell_type": "code",
   "execution_count": 5,
   "id": "224d9f35-822d-4f01-9bd7-40cb06a91d8c",
   "metadata": {},
   "outputs": [
    {
     "name": "stdout",
     "output_type": "stream",
     "text": [
      " Saldo de Igor: R$0.00\n"
     ]
    }
   ],
   "source": [
    "class Contabancaria:\n",
    "    def __init__ (self, titular, saldo=0):\n",
    "        self.titular = titular\n",
    "        self.saldo = saldo\n",
    "\n",
    "    def depositar(self, valor):\n",
    "        pass\n",
    "    def sacar(self, valor):\n",
    "        pass\n",
    "\n",
    "    def exibir_saldo(self):\n",
    "        print (f' Saldo de {self.titular}: R${self.saldo:.2f}')\n",
    "\n",
    "conta = Contabancaria(\"Igor\")\n",
    "conta.depositar = (1000)\n",
    "conta.sacar = (300)\n",
    "conta.exibir_saldo()"
   ]
  },
  {
   "cell_type": "code",
   "execution_count": 15,
   "id": "833c2228-02c7-44d8-8122-715b8858f113",
   "metadata": {},
   "outputs": [
    {
     "name": "stdout",
     "output_type": "stream",
     "text": [
      "Saldo de Igor: R$700.00\n"
     ]
    }
   ],
   "source": [
    "class ContaBancaria:\n",
    "    def __init__(self, titular, saldo=0):\n",
    "        self.titular = titular\n",
    "        self.saldo = saldo\n",
    "\n",
    "    def depositar(self, valor):\n",
    "        self.saldo += valor  # Adiciona o valor ao saldo\n",
    "\n",
    "    def sacar(self, valor):\n",
    "        if valor <= self.saldo:\n",
    "            self.saldo -= valor  # Subtrai o valor do saldo\n",
    "        else:\n",
    "            print(\"Saldo insuficiente.\")\n",
    "\n",
    "    def exibir_saldo(self):\n",
    "        print(f\"Saldo de {self.titular}: R${self.saldo:.2f}\")\n",
    "\n",
    "# Teste:\n",
    "conta = ContaBancaria(\"Igor\")\n",
    "conta.depositar(1000)\n",
    "conta.sacar(300)\n",
    "conta.exibir_saldo()\n"
   ]
  },
  {
   "cell_type": "code",
   "execution_count": 19,
   "id": "8803db4a-b320-4190-834e-ff6dcc284498",
   "metadata": {},
   "outputs": [
    {
     "name": "stdout",
     "output_type": "stream",
     "text": [
      "Seu saldo era R$0.00. Após o depósito de R$1000.00, seu novo saldo é R$1000.00.\n",
      "Seu saldo era R$1000.00. Após o saque de R$300.00, seu saldo atualizado é R$700.00.\n",
      "Saldo de Igor: R$700.00\n"
     ]
    }
   ],
   "source": [
    "class ContaBancaria:\n",
    "    def __init__(self, titular, saldo=0):\n",
    "        self.titular = titular\n",
    "        self.saldo = saldo\n",
    "\n",
    "    def depositar(self, valor):\n",
    "        saldo_anterior = self.saldo\n",
    "        self.saldo += valor\n",
    "        print(f\"Seu saldo era R${saldo_anterior:.2f}. Após o depósito de R${valor:.2f}, seu novo saldo é R${self.saldo:.2f}.\")\n",
    "\n",
    "    def sacar(self, valor):\n",
    "        if valor <= self.saldo:\n",
    "            saldo_anterior = self.saldo\n",
    "            self.saldo -= valor\n",
    "            print(f\"Seu saldo era R${saldo_anterior:.2f}. Após o saque de R${valor:.2f}, seu saldo atualizado é R${self.saldo:.2f}.\")\n",
    "        else:\n",
    "            print(\"Saldo insuficiente para realizar o saque.\")\n",
    "\n",
    "    def exibir_saldo(self):\n",
    "        print(f\"Saldo de {self.titular}: R${self.saldo:.2f}\")\n",
    "        \n",
    "conta = ContaBancaria(\"Igor\")\n",
    "conta.depositar(1000)\n",
    "conta.sacar(300)\n",
    "conta.exibir_saldo()\n"
   ]
  },
  {
   "cell_type": "code",
   "execution_count": 22,
   "id": "00f8a88d-d51a-4694-b398-8307cf5e04a8",
   "metadata": {},
   "outputs": [
    {
     "name": "stdin",
     "output_type": "stream",
     "text": [
      "Digite o valor a depositar: R$ 0\n"
     ]
    },
    {
     "name": "stdout",
     "output_type": "stream",
     "text": [
      "Depósito de R$0.00 realizado com sucesso.\n",
      "\n",
      "Saldo final de Igor: R$0.00\n"
     ]
    },
    {
     "name": "stdin",
     "output_type": "stream",
     "text": [
      "\n",
      "Digite o valor do saque 1: R$ 100\n"
     ]
    },
    {
     "name": "stdout",
     "output_type": "stream",
     "text": [
      "Saldo insuficiente para realizar o saque com taxa.\n",
      "\n",
      "Saldo final de Igor: R$0.00\n"
     ]
    },
    {
     "name": "stdin",
     "output_type": "stream",
     "text": [
      "\n",
      "Digite o valor do saque 2: R$ 100\n"
     ]
    },
    {
     "name": "stdout",
     "output_type": "stream",
     "text": [
      "Saldo insuficiente para realizar o saque com taxa.\n",
      "\n",
      "Saldo final de Igor: R$0.00\n"
     ]
    },
    {
     "name": "stdin",
     "output_type": "stream",
     "text": [
      "\n",
      "Digite o valor do saque 3: R$ 150\n"
     ]
    },
    {
     "name": "stdout",
     "output_type": "stream",
     "text": [
      "Saldo insuficiente para realizar o saque com taxa.\n",
      "\n",
      "Saldo final de Igor: R$0.00\n"
     ]
    },
    {
     "name": "stdin",
     "output_type": "stream",
     "text": [
      "\n",
      "Digite o valor do saque 4: R$ 100\n"
     ]
    },
    {
     "name": "stdout",
     "output_type": "stream",
     "text": [
      "Saldo insuficiente para realizar o saque com taxa.\n",
      "\n",
      "Saldo final de Igor: R$0.00\n",
      "\n",
      "📄 Extrato do dia:\n",
      "- Depósito: +R$0.00\n"
     ]
    }
   ],
   "source": [
    "class ContaBancaria:\n",
    "    def __init__(self, titular, saldo=0):\n",
    "        self.titular = titular\n",
    "        self.saldo = saldo\n",
    "        self.saques_realizados = 0\n",
    "        self.extrato = []\n",
    "\n",
    "    def depositar(self, valor):\n",
    "        self.saldo += valor\n",
    "        print(f\"Depósito de R${valor:.2f} realizado com sucesso.\")\n",
    "        self.extrato.append(f\"Depósito: +R${valor:.2f}\")\n",
    "\n",
    "    def sacar(self, valor):\n",
    "        taxa = 0\n",
    "        if self.saques_realizados >= 2:\n",
    "            taxa = 10.00\n",
    "            print(\"⚠️ Taxa administrativa de R$10,00 aplicada após o 3º saque.\")\n",
    "\n",
    "        total_saque = valor + taxa\n",
    "\n",
    "        if total_saque <= self.saldo:\n",
    "            self.saldo -= total_saque\n",
    "            self.saques_realizados += 1\n",
    "            print(f\"Saque de R${valor:.2f} realizado com sucesso. Taxa: R${taxa:.2f}\")\n",
    "            self.extrato.append(f\"Saque: -R${valor:.2f}\")\n",
    "            if taxa > 0:\n",
    "                self.extrato.append(f\"Taxa administrativa: -R${taxa:.2f}\")\n",
    "        else:\n",
    "            print(\"Saldo insuficiente para realizar o saque com taxa.\")\n",
    "\n",
    "    def exibir_saldo(self):\n",
    "        print(f\"\\nSaldo final de {self.titular}: R${self.saldo:.2f}\")\n",
    "\n",
    "    def imprimir_extrato(self):\n",
    "        print(\"\\n📄 Extrato do dia:\")\n",
    "        for item in self.extrato:\n",
    "            print(f\"- {item}\")\n",
    "\n",
    "\n",
    "# Execução do programa\n",
    "conta = ContaBancaria(\"Igor\")\n",
    "\n",
    "# Depósito inicial\n",
    "valor_deposito = float(input(\"Digite o valor a depositar: R$\"))\n",
    "conta.depositar(valor_deposito)\n",
    "conta.exibir_saldo()\n",
    "\n",
    "# Saques com limite e taxa após o terceiro\n",
    "for i in range(4):\n",
    "    valor_saque = float(input(f\"\\nDigite o valor do saque {i+1}: R$\"))\n",
    "    conta.sacar(valor_saque)\n",
    "    conta.exibir_saldo()\n",
    "\n",
    "# Exibe extrato final\n",
    "conta.imprimir_extrato()\n"
   ]
  },
  {
   "cell_type": "markdown",
   "id": "3cc56ceb-f8e6-4d9b-b2b3-4d9b6135f94f",
   "metadata": {},
   "source": [
    "# class ContaBancaria:\n",
    "    def __init__(self, titular, saldo=0):\n",
    "        self.titular = titular\n",
    "        self.saldo = saldo\n",
    "        self.saques_realizados = 0\n",
    "        self.extrato = []\n",
    "\n",
    "    def depositar(self, valor):\n",
    "        self.saldo += valor\n",
    "        print(f\"\\n✅ Depósito de R${valor:.2f} realizado com sucesso.\")\n",
    "        self.extrato.append(f\"Depósito: +R${valor:.2f}\")\n",
    "\n",
    "    def sacar(self, valor):\n",
    "        taxa = 0\n",
    "        if self.saques_realizados >= 3:\n",
    "            taxa = 10.00\n",
    "            print(\"⚠️ Taxa administrativa de R$10,00 aplicada a partir do 4º saque.\")\n",
    "\n",
    "        total_saque = valor + taxa\n",
    "\n",
    "        if total_saque <= self.saldo:\n",
    "            self.saldo -= total_saque\n",
    "            self.saques_realizados += 1\n",
    "            print(f\"✅ Saque de R${valor:.2f} realizado com sucesso. Taxa: R${taxa:.2f}\")\n",
    "            self.extrato.append(f\"Saque: -R${valor:.2f}\")\n",
    "            if taxa > 0:\n",
    "                self.extrato.append(f\"Taxa administrativa: -R${taxa:.2f}\")\n",
    "        else:\n",
    "            print(f\"❌ Saldo insuficiente. Você tentou sacar R${valor:.2f} + taxa de R${taxa:.2f} = R${total_saque:.2f}, mas só tem R${self.saldo:.2f}.\")\n",
    "\n",
    "    def exibir_saldo(self):\n",
    "        print(f\"💰 Saldo atual de {self.titular}: R${self.saldo:.2f}\")\n",
    "\n",
    "    def imprimir_extrato(self):\n",
    "        print(\"\\n📄 Extrato do dia:\")\n",
    "        for item in self.extrato:\n",
    "            print(f\"- {item}\")\n",
    "\n",
    "\n",
    "# Execução do programa\n",
    "conta = ContaBancaria(\"Igor\")\n",
    "\n",
    "# Depósito inicial\n",
    "try:\n",
    "    valor_deposito = float(input(\"Digite o valor a depositar: R$\"))\n",
    "    conta.depositar(valor_deposito)\n",
    "    conta.exibir_saldo()\n",
    "except ValueError:\n",
    "    print(\"❌ Valor inválido. Digite um número.\")\n",
    "\n",
    "# Saques (com taxa a partir do 4º)\n",
    "for i in range(4):\n",
    "    try:\n",
    "        valor_saque = float(input(f\"\\nDigite o valor do saque {i+1}: R$\"))\n",
    "        conta.sacar(valor_saque)\n",
    "        conta.exibir_saldo()\n",
    "    except ValueError:\n",
    "        print(\"❌ Valor inválido. Digite um número.\")\n",
    "\n",
    "# Exibe extrato final\n",
    "conta.imprimir_extrato()\n",
    "conta.exibir_saldo()  # <-- exibe o saldo final após o extrato\n"
   ]
  },
  {
   "cell_type": "code",
   "execution_count": 29,
   "id": "0b75f659-0e22-460b-b154-f680a7124795",
   "metadata": {},
   "outputs": [
    {
     "name": "stdin",
     "output_type": "stream",
     "text": [
      "Digite o valor a depositar: R$ 150\n"
     ]
    },
    {
     "name": "stdout",
     "output_type": "stream",
     "text": [
      "\n",
      "✅ Depósito de R$150.00 realizado com sucesso.\n",
      "💰 Saldo atual de Igor: R$150.00\n"
     ]
    },
    {
     "name": "stdin",
     "output_type": "stream",
     "text": [
      "\n",
      "Digite o valor do saque 1: R$ 100\n"
     ]
    },
    {
     "name": "stdout",
     "output_type": "stream",
     "text": [
      "✅ Saque de R$100.00 realizado com sucesso. \n",
      "💰 Saldo atual de Igor: R$50.00\n"
     ]
    },
    {
     "name": "stdin",
     "output_type": "stream",
     "text": [
      "\n",
      "Digite o valor do saque 2: R$ 10\n"
     ]
    },
    {
     "name": "stdout",
     "output_type": "stream",
     "text": [
      "✅ Saque de R$10.00 realizado com sucesso. \n",
      "💰 Saldo atual de Igor: R$40.00\n"
     ]
    },
    {
     "name": "stdin",
     "output_type": "stream",
     "text": [
      "\n",
      "Digite o valor do saque 3: R$ 40\n"
     ]
    },
    {
     "name": "stdout",
     "output_type": "stream",
     "text": [
      "❌ Saldo insuficiente. Você tentou sacar R$40.00 + taxa de R$10.00 = R$50.00, mas só tem R$40.00.\n",
      "💰 Saldo atual de Igor: R$40.00\n"
     ]
    },
    {
     "name": "stdin",
     "output_type": "stream",
     "text": [
      "\n",
      "Digite o valor do saque 4: R$ 40\n"
     ]
    },
    {
     "name": "stdout",
     "output_type": "stream",
     "text": [
      "❌ Saldo insuficiente. Você tentou sacar R$40.00 + taxa de R$10.00 = R$50.00, mas só tem R$40.00.\n",
      "💰 Saldo atual de Igor: R$40.00\n",
      "\n",
      "📄 Extrato do dia:\n",
      "- Depósito: +R$150.00\n",
      "- Saque: -R$100.00\n",
      "- Saque: -R$10.00\n",
      "💰 Saldo atual de Igor: R$40.00\n"
     ]
    }
   ],
   "source": [
    "class ContaBancaria:\n",
    "    def __init__(self, titular, saldo=0):\n",
    "        self.titular = titular\n",
    "        self.saldo = saldo\n",
    "        self.saques_realizados = 0\n",
    "        self.extrato = []\n",
    "\n",
    "    def depositar(self, valor):\n",
    "        self.saldo += valor\n",
    "        print(f\"\\n✅ Depósito de R${valor:.2f} realizado com sucesso.\")\n",
    "        self.extrato.append(f\"Depósito: +R${valor:.2f}\")\n",
    "\n",
    "    def sacar(self, valor):\n",
    "        # 🔧 ALTERAÇÃO: cálculo da taxa ANTES da verificação de saldo\n",
    "        taxa = 0\n",
    "        if self.saques_realizados >= 2:\n",
    "            taxa = 10.00\n",
    "\n",
    "        total_saque = valor + taxa  # 🔧 ALTERAÇÃO: soma valor + taxa para verificação\n",
    "\n",
    "        if total_saque <= self.saldo:\n",
    "            self.saldo -= total_saque\n",
    "            self.saques_realizados += 1\n",
    "            print(f\"✅ Saque de R${valor:.2f} realizado com sucesso.\", end=\" \")\n",
    "            if taxa > 0:\n",
    "                print(f\"Taxa administrativa aplicada: R${taxa:.2f}\")\n",
    "                self.extrato.append(f\"Taxa administrativa: -R${taxa:.2f}\")\n",
    "            else:\n",
    "                print()\n",
    "            self.extrato.append(f\"Saque: -R${valor:.2f}\")\n",
    "        else:\n",
    "            print(f\"❌ Saldo insuficiente. Você tentou sacar R${valor:.2f} + taxa de R${taxa:.2f} = R${total_saque:.2f}, mas só tem R${self.saldo:.2f}.\")\n",
    "\n",
    "    def exibir_saldo(self):\n",
    "        print(f\"💰 Saldo atual de {self.titular}: R${self.saldo:.2f}\")\n",
    "\n",
    "    def imprimir_extrato(self):\n",
    "        print(\"\\n📄 Extrato do dia:\")\n",
    "        for item in self.extrato:\n",
    "            print(f\"- {item}\")\n",
    "\n",
    "\n",
    "# Execução do programa\n",
    "conta = ContaBancaria(\"Igor\")\n",
    "\n",
    "# Depósito inicial\n",
    "try:\n",
    "    valor_deposito = float(input(\"Digite o valor a depositar: R$\"))\n",
    "    conta.depositar(valor_deposito)\n",
    "    conta.exibir_saldo()\n",
    "except ValueError:\n",
    "    print(\"❌ Valor inválido. Digite um número.\")\n",
    "\n",
    "# Saques (com taxa a partir do 4º)\n",
    "for i in range(4):\n",
    "    try:\n",
    "        valor_saque = float(input(f\"\\nDigite o valor do saque {i+1}: R$\"))\n",
    "        conta.sacar(valor_saque)\n",
    "        conta.exibir_saldo()\n",
    "    except ValueError:\n",
    "        print(\"❌ Valor inválido. Digite um número.\")\n",
    "\n",
    "# Exibe extrato final\n",
    "conta.imprimir_extrato()\n",
    "conta.exibir_saldo()  # Mostra o saldo final da conta\n"
   ]
  },
  {
   "cell_type": "code",
   "execution_count": 30,
   "id": "c1afb3d9-d927-4f53-ba84-e45649dbb7c1",
   "metadata": {},
   "outputs": [
    {
     "name": "stdout",
     "output_type": "stream",
     "text": [
      "Go\n",
      "Mike\n"
     ]
    }
   ],
   "source": [
    "x = \"Go\" \n",
    "if x == \"Go\": \n",
    "    print('Go') \n",
    "else: \n",
    "    print('Stop') \n",
    "print('Mike')"
   ]
  },
  {
   "cell_type": "code",
   "execution_count": 35,
   "id": "8e5c8b42-ed7e-442e-a075-7edbc169fd42",
   "metadata": {},
   "outputs": [
    {
     "name": "stdout",
     "output_type": "stream",
     "text": [
      "101\n"
     ]
    }
   ],
   "source": [
    " a = 1 \n",
    "def do(x): \n",
    "    a = 100 \n",
    "    return x + a \n",
    "\n",
    "\n",
    "print(do(1))\n"
   ]
  },
  {
   "cell_type": "code",
   "execution_count": null,
   "id": "f2f6874d-03ce-473f-b02a-7da0d4de5b06",
   "metadata": {},
   "outputs": [],
   "source": []
  }
 ],
 "metadata": {
  "kernelspec": {
   "display_name": "Python [conda env:base] *",
   "language": "python",
   "name": "conda-base-py"
  },
  "language_info": {
   "codemirror_mode": {
    "name": "ipython",
    "version": 3
   },
   "file_extension": ".py",
   "mimetype": "text/x-python",
   "name": "python",
   "nbconvert_exporter": "python",
   "pygments_lexer": "ipython3",
   "version": "3.12.3"
  }
 },
 "nbformat": 4,
 "nbformat_minor": 5
}
