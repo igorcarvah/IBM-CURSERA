{
 "cells": [
  {
   "cell_type": "code",
   "execution_count": 1,
   "id": "1de64c14-153f-4b92-8683-1e5d4e426a0e",
   "metadata": {},
   "outputs": [
    {
     "name": "stdout",
     "output_type": "stream",
     "text": [
      "teste colocando git no jupiterlab\n"
     ]
    }
   ],
   "source": [
    "print ('teste colocando git no jupiterlab')"
   ]
  },
  {
   "cell_type": "code",
   "execution_count": null,
   "id": "46c4ed7b-71da-4c3e-94e1-a78f1e3ab5c2",
   "metadata": {},
   "outputs": [],
   "source": []
  }
 ],
 "metadata": {
  "kernelspec": {
   "display_name": "Python [conda env:projeto]",
   "language": "python",
   "name": "conda-env-projeto-py"
  },
  "language_info": {
   "codemirror_mode": {
    "name": "ipython",
    "version": 3
   },
   "file_extension": ".py",
   "mimetype": "text/x-python",
   "name": "python",
   "nbconvert_exporter": "python",
   "pygments_lexer": "ipython3",
   "version": "3.13.3"
  }
 },
 "nbformat": 4,
 "nbformat_minor": 5
}
