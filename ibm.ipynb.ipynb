{
 "cells": [
  {
   "cell_type": "markdown",
   "id": "3ba1ddef-f4d2-4257-bb6c-438c3bc3b17a",
   "metadata": {},
   "source": [
    "# IBM Data Science Curso - Exercicios"
   ]
  },
  {
   "cell_type": "markdown",
   "id": "2d834978-a7f1-442f-8c18-89d0b1aa41dd",
   "metadata": {},
   "source": [
    "# Introdução\n",
    "\n",
    "Este notebook tem como objetivo explorar conceitos fundamentais de **ciência de dados** e suas aplicações práticas. \n",
    "\n",
    "Vamos abordar ferramentas essenciais, como **Python**, **JupyterLab**, **Pandas**, entre outras, para manipulação e análise de dados.  \n",
    "\n",
    "Ao longo do notebook, você poderá executar códigos, testar funções e entender melhor como utilizar esses recursos de forma eficiente. 🚀  \n",
    "\n",
    "---\n"
   ]
  },
  {
   "cell_type": "markdown",
   "id": "2a033bc2-8fe5-4c75-8e89-9485b02314f4",
   "metadata": {},
   "source": [
    "# Linguagens de Programação para Ciência de Dados  \n",
    "\n",
    "A ciência de dados utiliza diversas linguagens para análise, manipulação e modelagem de dados. Aqui estão algumas das principais:  \n",
    "\n",
    "1. **Python** – A linguagem mais popular para ciência de dados devido às suas bibliotecas como Pandas e NumPy.  \n",
    "2. **R** – Focado em estatística e visualização de dados.  \n",
    "3. **SQL** – Essencial para manipulação de bancos de dados.  \n",
    "4. **Scala** – Usado em Big Data e processamento distribuído com Apache Spark.  \n",
    "5. **Java** – Aplicações robustas e escaláveis.  \n",
    "6. **C++** – Alta performance em computação científica.  \n",
    "7. **Julia** – Linguagem eficiente para cálculos matemáticos.  \n",
    "8. **JavaScript** – Aplicações web interativas.  \n",
    "9. **PHP** – Processamento de dados em servidores web.  \n",
    "10. **Go** – Alta concorrência e processamento rápido.  \n",
    "11. **Ruby** – Facilidade para desenvolvimento e scripts.  \n",
    "12. **Visual Basic** – Aplicações empresariais e automação.  \n"
   ]
  },
  {
   "cell_type": "markdown",
   "id": "2496e417-2bb7-4f0a-b9c6-ed6fa6c22e07",
   "metadata": {},
   "source": [
    "# Ferramentas de Ciência de Dados\n",
    "\n",
    "Aqui está uma tabela com algumas das principais ferramentas utilizadas em ciência de dados:\n",
    "\n",
    "| Ferramenta     | Descrição                                              | Linguagem Suportada    |\n",
    "|---------------|------------------------------------------------------|------------------------|\n",
    "| JupyterLab    | Ambiente interativo para programação e análise       | Python                 |\n",
    "| RStudio       | IDE para a linguagem R                               | R                      |\n",
    "| IBM Watson    | Plataforma de IA e análise de dados                  | Python, R, SQL         |\n",
    "| TensorFlow    | Biblioteca de aprendizado de máquina                 | Python                 |\n",
    "| Pandas        | Biblioteca para manipulação de dados                 | Python                 |\n",
    "| Apache Spark  | Ferramenta de processamento distribuído              | Python, Scala, Java, R |\n",
    "| Scikit-learn  | Biblioteca para aprendizado de máquina               | Python                 |\n"
   ]
  },
  {
   "cell_type": "markdown",
   "id": "ccf465f0-414c-45d6-9c59-332e15fde5a3",
   "metadata": {},
   "source": [
    "# Expressões Aritméticas  \n",
    "\n",
    "Em programação, expressões aritméticas são utilizadas para realizar cálculos matemáticos. Aqui estão alguns exemplos:  \n",
    "\n",
    "## 📌 Operações Básicas  \n",
    "- **Soma:** `5 + 3 = 8`  \n",
    "- **Subtração:** `10 - 4 = 6`  \n",
    "- **Multiplicação:** `6 * 2 = 12`  \n",
    "- **Divisão:** `9 / 3 = 3`  \n",
    "\n",
    "## 🔢 Operações Avançadas  \n",
    "- **Potenciação:** `2 ** 3 = 8` (2 elevado a 3)  \n",
    "- **Módulo (resto da divisão):** `10 % 3 = 1`  \n",
    "- **Divisão inteira:** `15 // 4 = 3`  \n",
    "\n",
    "Essas operações são fundamentais em **Ciência de Dados**, podendo ser usadas em cálculos estatísticos e manipulação de dados. 🚀  \n",
    "\n",
    "\n",
    "\n"
   ]
  },
  {
   "cell_type": "code",
   "execution_count": 1,
   "id": "d5e0ac1c-a617-4684-8b93-feaf0e224086",
   "metadata": {},
   "outputs": [
    {
     "name": "stdout",
     "output_type": "stream",
     "text": [
      "17\n"
     ]
    }
   ],
   "source": [
    "# Multiplicação e adição de números\n",
    "resultado = (3 * 4) + 5\n",
    "print(resultado)  # Saída esperada: 17\n"
   ]
  },
  {
   "cell_type": "code",
   "execution_count": 2,
   "id": "8a0bca58-3992-49c2-8484-c07dd6bd9d18",
   "metadata": {},
   "outputs": [
    {
     "name": "stdout",
     "output_type": "stream",
     "text": [
      "3.3333333333333335\n"
     ]
    }
   ],
   "source": [
    "# Conversão de minutos para horas\n",
    "resultado = 200 / 60\n",
    "print(resultado) # Saída esperada: 3.33\n"
   ]
  },
  {
   "cell_type": "markdown",
   "id": "1bedd615-d6ce-4680-ab74-4abd36a3e696",
   "metadata": {
    "jp-MarkdownHeadingCollapsed": true
   },
   "source": [
    "**Objetivos**\n",
    "\n",
    "- Aprender os fundamentos da programação em Python.\n",
    "- Desenvolver habilidades de manipulação e análise de dados.\n",
    "- Aplicar técnicas de aprendizado de máquina para criar modelos preditivos.\n"
   ]
  },
  {
   "cell_type": "markdown",
   "id": "57855902-a6c4-4e0a-9172-6eb0ca3e65a3",
   "metadata": {},
   "source": [
    "# Autor\n",
    "\n",
    "Este notebook foi criado por **Igor Carvalho**.\n",
    "\n",
    "Data de criação: 09 de junho de 2025\n",
    "\n",
    "\n"
   ]
  },
  {
   "cell_type": "code",
   "execution_count": null,
   "id": "4b50b2c6-8acf-49e3-a75c-b403270e9bd4",
   "metadata": {},
   "outputs": [],
   "source": []
  }
 ],
 "metadata": {
  "kernelspec": {
   "display_name": "Python [conda env:base] *",
   "language": "python",
   "name": "conda-base-py"
  },
  "language_info": {
   "codemirror_mode": {
    "name": "ipython",
    "version": 3
   },
   "file_extension": ".py",
   "mimetype": "text/x-python",
   "name": "python",
   "nbconvert_exporter": "python",
   "pygments_lexer": "ipython3",
   "version": "3.12.3"
  }
 },
 "nbformat": 4,
 "nbformat_minor": 5
}
